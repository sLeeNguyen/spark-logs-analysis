{
 "cells": [
  {
   "cell_type": "code",
   "execution_count": 40,
   "id": "062d9352",
   "metadata": {
    "scrolled": true
   },
   "outputs": [
    {
     "ename": "ValueError",
     "evalue": "Cannot run multiple SparkContexts at once; existing SparkContext(app=pyspark-shell, master=local[*]) created by __init__ at /var/folders/q8/5zm40l013b957d609xmckgn00000gp/T/ipykernel_25086/3539456616.py:5 ",
     "output_type": "error",
     "traceback": [
      "\u001b[0;31m---------------------------------------------------------------------------\u001b[0m",
      "\u001b[0;31mValueError\u001b[0m                                Traceback (most recent call last)",
      "Cell \u001b[0;32mIn[40], line 5\u001b[0m\n\u001b[1;32m      2\u001b[0m \u001b[38;5;28;01mfrom\u001b[39;00m \u001b[38;5;21;01mpyspark\u001b[39;00m\u001b[38;5;21;01m.\u001b[39;00m\u001b[38;5;21;01msql\u001b[39;00m\u001b[38;5;21;01m.\u001b[39;00m\u001b[38;5;21;01mcontext\u001b[39;00m \u001b[38;5;28;01mimport\u001b[39;00m SQLContext\n\u001b[1;32m      3\u001b[0m \u001b[38;5;28;01mfrom\u001b[39;00m \u001b[38;5;21;01mpyspark\u001b[39;00m\u001b[38;5;21;01m.\u001b[39;00m\u001b[38;5;21;01msql\u001b[39;00m\u001b[38;5;21;01m.\u001b[39;00m\u001b[38;5;21;01msession\u001b[39;00m \u001b[38;5;28;01mimport\u001b[39;00m SparkSession\n\u001b[0;32m----> 5\u001b[0m sc \u001b[38;5;241m=\u001b[39m \u001b[43mSparkContext\u001b[49m\u001b[43m(\u001b[49m\u001b[43m)\u001b[49m\n\u001b[1;32m      6\u001b[0m sqlContext \u001b[38;5;241m=\u001b[39m SQLContext(sc)\n\u001b[1;32m      7\u001b[0m spark \u001b[38;5;241m=\u001b[39m SparkSession(sc)\n",
      "File \u001b[0;32m~/Desktop/bigdata/venv/lib/python3.8/site-packages/pyspark/context.py:195\u001b[0m, in \u001b[0;36mSparkContext.__init__\u001b[0;34m(self, master, appName, sparkHome, pyFiles, environment, batchSize, serializer, conf, gateway, jsc, profiler_cls, udf_profiler_cls)\u001b[0m\n\u001b[1;32m    189\u001b[0m \u001b[38;5;28;01mif\u001b[39;00m gateway \u001b[38;5;129;01mis\u001b[39;00m \u001b[38;5;129;01mnot\u001b[39;00m \u001b[38;5;28;01mNone\u001b[39;00m \u001b[38;5;129;01mand\u001b[39;00m gateway\u001b[38;5;241m.\u001b[39mgateway_parameters\u001b[38;5;241m.\u001b[39mauth_token \u001b[38;5;129;01mis\u001b[39;00m \u001b[38;5;28;01mNone\u001b[39;00m:\n\u001b[1;32m    190\u001b[0m     \u001b[38;5;28;01mraise\u001b[39;00m \u001b[38;5;167;01mValueError\u001b[39;00m(\n\u001b[1;32m    191\u001b[0m         \u001b[38;5;124m\"\u001b[39m\u001b[38;5;124mYou are trying to pass an insecure Py4j gateway to Spark. This\u001b[39m\u001b[38;5;124m\"\u001b[39m\n\u001b[1;32m    192\u001b[0m         \u001b[38;5;124m\"\u001b[39m\u001b[38;5;124m is not allowed as it is a security risk.\u001b[39m\u001b[38;5;124m\"\u001b[39m\n\u001b[1;32m    193\u001b[0m     )\n\u001b[0;32m--> 195\u001b[0m \u001b[43mSparkContext\u001b[49m\u001b[38;5;241;43m.\u001b[39;49m\u001b[43m_ensure_initialized\u001b[49m\u001b[43m(\u001b[49m\u001b[38;5;28;43mself\u001b[39;49m\u001b[43m,\u001b[49m\u001b[43m \u001b[49m\u001b[43mgateway\u001b[49m\u001b[38;5;241;43m=\u001b[39;49m\u001b[43mgateway\u001b[49m\u001b[43m,\u001b[49m\u001b[43m \u001b[49m\u001b[43mconf\u001b[49m\u001b[38;5;241;43m=\u001b[39;49m\u001b[43mconf\u001b[49m\u001b[43m)\u001b[49m\n\u001b[1;32m    196\u001b[0m \u001b[38;5;28;01mtry\u001b[39;00m:\n\u001b[1;32m    197\u001b[0m     \u001b[38;5;28mself\u001b[39m\u001b[38;5;241m.\u001b[39m_do_init(\n\u001b[1;32m    198\u001b[0m         master,\n\u001b[1;32m    199\u001b[0m         appName,\n\u001b[0;32m   (...)\u001b[0m\n\u001b[1;32m    208\u001b[0m         udf_profiler_cls,\n\u001b[1;32m    209\u001b[0m     )\n",
      "File \u001b[0;32m~/Desktop/bigdata/venv/lib/python3.8/site-packages/pyspark/context.py:430\u001b[0m, in \u001b[0;36mSparkContext._ensure_initialized\u001b[0;34m(cls, instance, gateway, conf)\u001b[0m\n\u001b[1;32m    427\u001b[0m     callsite \u001b[38;5;241m=\u001b[39m SparkContext\u001b[38;5;241m.\u001b[39m_active_spark_context\u001b[38;5;241m.\u001b[39m_callsite\n\u001b[1;32m    429\u001b[0m     \u001b[38;5;66;03m# Raise error if there is already a running Spark context\u001b[39;00m\n\u001b[0;32m--> 430\u001b[0m     \u001b[38;5;28;01mraise\u001b[39;00m \u001b[38;5;167;01mValueError\u001b[39;00m(\n\u001b[1;32m    431\u001b[0m         \u001b[38;5;124m\"\u001b[39m\u001b[38;5;124mCannot run multiple SparkContexts at once; \u001b[39m\u001b[38;5;124m\"\u001b[39m\n\u001b[1;32m    432\u001b[0m         \u001b[38;5;124m\"\u001b[39m\u001b[38;5;124mexisting SparkContext(app=\u001b[39m\u001b[38;5;132;01m%s\u001b[39;00m\u001b[38;5;124m, master=\u001b[39m\u001b[38;5;132;01m%s\u001b[39;00m\u001b[38;5;124m)\u001b[39m\u001b[38;5;124m\"\u001b[39m\n\u001b[1;32m    433\u001b[0m         \u001b[38;5;124m\"\u001b[39m\u001b[38;5;124m created by \u001b[39m\u001b[38;5;132;01m%s\u001b[39;00m\u001b[38;5;124m at \u001b[39m\u001b[38;5;132;01m%s\u001b[39;00m\u001b[38;5;124m:\u001b[39m\u001b[38;5;132;01m%s\u001b[39;00m\u001b[38;5;124m \u001b[39m\u001b[38;5;124m\"\u001b[39m\n\u001b[1;32m    434\u001b[0m         \u001b[38;5;241m%\u001b[39m (\n\u001b[1;32m    435\u001b[0m             currentAppName,\n\u001b[1;32m    436\u001b[0m             currentMaster,\n\u001b[1;32m    437\u001b[0m             callsite\u001b[38;5;241m.\u001b[39mfunction,\n\u001b[1;32m    438\u001b[0m             callsite\u001b[38;5;241m.\u001b[39mfile,\n\u001b[1;32m    439\u001b[0m             callsite\u001b[38;5;241m.\u001b[39mlinenum,\n\u001b[1;32m    440\u001b[0m         )\n\u001b[1;32m    441\u001b[0m     )\n\u001b[1;32m    442\u001b[0m \u001b[38;5;28;01melse\u001b[39;00m:\n\u001b[1;32m    443\u001b[0m     SparkContext\u001b[38;5;241m.\u001b[39m_active_spark_context \u001b[38;5;241m=\u001b[39m instance\n",
      "\u001b[0;31mValueError\u001b[0m: Cannot run multiple SparkContexts at once; existing SparkContext(app=pyspark-shell, master=local[*]) created by __init__ at /var/folders/q8/5zm40l013b957d609xmckgn00000gp/T/ipykernel_25086/3539456616.py:5 "
     ]
    }
   ],
   "source": [
    "from pyspark.context import SparkContext\n",
    "from pyspark.sql.context import SQLContext\n",
    "from pyspark.sql.session import SparkSession\n",
    "    \n",
    "sc = SparkContext()\n",
    "sqlContext = SQLContext(sc)\n",
    "spark = SparkSession(sc)"
   ]
  },
  {
   "cell_type": "code",
   "execution_count": 41,
   "id": "906f93dc",
   "metadata": {},
   "outputs": [],
   "source": [
    "import re\n",
    "from datetime import datetime"
   ]
  },
  {
   "cell_type": "code",
   "execution_count": 42,
   "id": "09df817e",
   "metadata": {},
   "outputs": [
    {
     "data": {
      "text/plain": [
       "['data/NASA_access_log_Jul95.gz', 'data/NASA_access_log_Aug95.gz']"
      ]
     },
     "execution_count": 42,
     "metadata": {},
     "output_type": "execute_result"
    }
   ],
   "source": [
    "import glob\n",
    "\n",
    "raw_data_files = glob.glob('data/*.gz')\n",
    "raw_data_files"
   ]
  },
  {
   "cell_type": "code",
   "execution_count": 43,
   "id": "21f029d1",
   "metadata": {},
   "outputs": [
    {
     "data": {
      "text/plain": [
       "DataFrame[value: string]"
      ]
     },
     "execution_count": 43,
     "metadata": {},
     "output_type": "execute_result"
    }
   ],
   "source": [
    "raw_logs_df = spark.read.text(raw_data_files)\n",
    "raw_logs_df"
   ]
  },
  {
   "cell_type": "markdown",
   "id": "c4f2dadd",
   "metadata": {},
   "source": [
    "### Viewing sample data in our dataframe"
   ]
  },
  {
   "cell_type": "code",
   "execution_count": 44,
   "id": "57793535",
   "metadata": {},
   "outputs": [
    {
     "data": {
      "text/plain": [
       "[Row(value='199.72.81.55 - - [01/Jul/1995:00:00:01 -0400] \"GET /history/apollo/ HTTP/1.0\" 200 6245'),\n",
       " Row(value='unicomp6.unicomp.net - - [01/Jul/1995:00:00:06 -0400] \"GET /shuttle/countdown/ HTTP/1.0\" 200 3985'),\n",
       " Row(value='199.120.110.21 - - [01/Jul/1995:00:00:09 -0400] \"GET /shuttle/missions/sts-73/mission-sts-73.html HTTP/1.0\" 200 4085'),\n",
       " Row(value='burger.letters.com - - [01/Jul/1995:00:00:11 -0400] \"GET /shuttle/countdown/liftoff.html HTTP/1.0\" 304 0'),\n",
       " Row(value='199.120.110.21 - - [01/Jul/1995:00:00:11 -0400] \"GET /shuttle/missions/sts-73/sts-73-patch-small.gif HTTP/1.0\" 200 4179'),\n",
       " Row(value='burger.letters.com - - [01/Jul/1995:00:00:12 -0400] \"GET /images/NASA-logosmall.gif HTTP/1.0\" 304 0'),\n",
       " Row(value='burger.letters.com - - [01/Jul/1995:00:00:12 -0400] \"GET /shuttle/countdown/video/livevideo.gif HTTP/1.0\" 200 0'),\n",
       " Row(value='205.212.115.106 - - [01/Jul/1995:00:00:12 -0400] \"GET /shuttle/countdown/countdown.html HTTP/1.0\" 200 3985'),\n",
       " Row(value='d104.aa.net - - [01/Jul/1995:00:00:13 -0400] \"GET /shuttle/countdown/ HTTP/1.0\" 200 3985'),\n",
       " Row(value='129.94.144.152 - - [01/Jul/1995:00:00:13 -0400] \"GET / HTTP/1.0\" 200 7074')]"
      ]
     },
     "execution_count": 44,
     "metadata": {},
     "output_type": "execute_result"
    }
   ],
   "source": [
    "raw_logs_df.take(10)"
   ]
  },
  {
   "cell_type": "code",
   "execution_count": 6,
   "id": "69950c6f",
   "metadata": {},
   "outputs": [
    {
     "name": "stderr",
     "output_type": "stream",
     "text": [
      "\r",
      "[Stage 1:>                                                          (0 + 2) / 2]\r"
     ]
    },
    {
     "name": "stdout",
     "output_type": "stream",
     "text": [
      "(3461613, 1)\n"
     ]
    },
    {
     "name": "stderr",
     "output_type": "stream",
     "text": [
      "\r",
      "                                                                                \r"
     ]
    }
   ],
   "source": [
    "print((raw_logs_df.count(), len(raw_logs_df.columns)))"
   ]
  },
  {
   "cell_type": "code",
   "execution_count": 45,
   "id": "0820db79",
   "metadata": {},
   "outputs": [
    {
     "data": {
      "text/plain": [
       "Row(value='199.72.81.55 - - [01/Jul/1995:00:00:01 -0400] \"GET /history/apollo/ HTTP/1.0\" 200 6245')"
      ]
     },
     "execution_count": 45,
     "metadata": {},
     "output_type": "execute_result"
    }
   ],
   "source": [
    "a_log = raw_logs_df.first()\n",
    "a_log"
   ]
  },
  {
   "cell_type": "code",
   "execution_count": 46,
   "id": "da09cc2b",
   "metadata": {},
   "outputs": [],
   "source": [
    "re_host = '(^\\S+\\.[\\S+\\.]+\\S+2)'\n",
    "re_time = '\\[(\\d{2}/\\w{3}/\\d{4}:\\d{2}:\\d{2}:\\d{2} -\\d{4})]'\n",
    "re_method_uri_protocol = '\\\"(\\S+)\\s(\\S+)\\s*(\\S*)\\\"'\n",
    "re_status = '\\s(\\d{3})\\s'\n",
    "re_content_size = '(\\d+)$'\n",
    "log_pattern = f'{re_host}\\s-\\s-\\s{re_time}\\s{re_method_uri_protocol}{re_status}{re_content_size}'\n"
   ]
  },
  {
   "cell_type": "code",
   "execution_count": 47,
   "id": "33728b93",
   "metadata": {},
   "outputs": [
    {
     "name": "stdout",
     "output_type": "stream",
     "text": [
      "None\n"
     ]
    }
   ],
   "source": [
    "match = re.search(log_pattern, a_log.value)\n",
    "print(match)"
   ]
  },
  {
   "cell_type": "code",
   "execution_count": 48,
   "id": "36d90467",
   "metadata": {
    "scrolled": true
   },
   "outputs": [
    {
     "data": {
      "text/plain": [
       "DataFrame[host: string, timestamp: string, method: string, endpoint: string, protocol: string, status: string, content_size: string, raw: string]"
      ]
     },
     "execution_count": 48,
     "metadata": {},
     "output_type": "execute_result"
    }
   ],
   "source": [
    "from pyspark.sql import functions as F\n",
    "from pyspark.sql import types as SparkTypes\n",
    "\n",
    "parsed_logs_df = raw_logs_df.select(F.regexp_extract('value', re_host, 1).alias('host'),\n",
    "                        F.regexp_extract('value', re_time, 1).alias('timestamp'),\n",
    "                        F.regexp_extract('value', re_method_uri_protocol, 1).alias('method'),\n",
    "                        F.regexp_extract('value', re_method_uri_protocol, 2).alias('endpoint'),\n",
    "                        F.regexp_extract('value', re_method_uri_protocol, 3).alias('protocol'),\n",
    "                        F.regexp_extract('value', re_status, 1).alias('status'),\n",
    "                        F.regexp_extract('value', re_content_size, 1).alias('content_size'),\n",
    "                        raw_logs_df.value.alias('raw')\n",
    "                        )\n",
    "parsed_logs_df.cache()"
   ]
  },
  {
   "cell_type": "code",
   "execution_count": 49,
   "id": "fd7757c7",
   "metadata": {},
   "outputs": [
    {
     "name": "stderr",
     "output_type": "stream",
     "text": [
      "\r",
      "[Stage 23:>                                                         (0 + 1) / 1]\r"
     ]
    },
    {
     "name": "stdout",
     "output_type": "stream",
     "text": [
      "23/05/27 18:29:09 WARN MemoryStore: Not enough space to cache rdd_113_0 in memory! (computed 244.4 MiB so far)\n",
      "23/05/27 18:29:09 WARN BlockManager: Persisting block rdd_113_0 to disk instead.\n",
      "23/05/27 18:29:12 WARN MemoryStore: Not enough space to cache rdd_113_0 in memory! (computed 244.4 MiB so far)\n"
     ]
    },
    {
     "name": "stderr",
     "output_type": "stream",
     "text": [
      "\r",
      "                                                                                \r"
     ]
    },
    {
     "data": {
      "text/plain": [
       "[Row(host='', timestamp='01/Jul/1995:00:00:01 -0400', method='GET', endpoint='/history/apollo/', protocol='HTTP/1.0', status='200', content_size='6245', raw='199.72.81.55 - - [01/Jul/1995:00:00:01 -0400] \"GET /history/apollo/ HTTP/1.0\" 200 6245')]"
      ]
     },
     "execution_count": 49,
     "metadata": {},
     "output_type": "execute_result"
    }
   ],
   "source": [
    "parsed_logs_df.take(1)"
   ]
  },
  {
   "cell_type": "code",
   "execution_count": 64,
   "id": "40310de6",
   "metadata": {},
   "outputs": [
    {
     "name": "stdout",
     "output_type": "stream",
     "text": [
      "23/05/27 18:33:48 WARN MemoryStore: Not enough space to cache rdd_113_0 in memory! (computed 155.2 MiB so far)\n"
     ]
    },
    {
     "data": {
      "text/plain": [
       "3461613"
      ]
     },
     "execution_count": 64,
     "metadata": {},
     "output_type": "execute_result"
    }
   ],
   "source": [
    "parsed_logs_df = parsed_logs_df.filter(\n",
    "        (F.col('host') != '') &\n",
    "        (F.col('timestamp') != '') &\n",
    "        (F.col('method') != '') &\n",
    "        (F.col('endpoint') != '') &\n",
    "        (F.col('protocol') != '') &\n",
    "        (F.col('status') != '') &\n",
    "        (F.col('content_size') != '')\n",
    "    ) \n",
    "normalized_logs_df.count()"
   ]
  },
  {
   "cell_type": "code",
   "execution_count": 75,
   "id": "0b3b230d",
   "metadata": {},
   "outputs": [],
   "source": [
    "# normalized_logs_df = parsed_logs_df.withColumn('timestamp', F.udf(lambda s: datetime.strptime(s, \"%d/%b/%Y:%H:%M:%S %z\").date())(\"timestamp\"))\n",
    "# normalized_logs_df = normalized_logs_df.withColumn('status', F.udf(lambda s: int(s))('status'))\n",
    "# normalized_logs_df = normalized_logs_df.withColumn('content_size', F.udf(lambda s: int(s))('content_size'))\n",
    "normalized_logs_df = parsed_logs_df.withColumns({\n",
    "    \"timestamp\": F.udf(lambda s: datetime.strptime(s, \"%d/%b/%Y:%H:%M:%S %z\").strftime(\"%Y-%m-%dT%H:%M:%S%z\"), SparkTypes.StringType())(\"timestamp\"),\n",
    "    \"status\": F.udf(lambda s: int(s), SparkTypes.IntegerType())('status'),\n",
    "    \"content_size\": F.udf(lambda s: int(s), SparkTypes.IntegerType())('content_size'),\n",
    "})\n",
    "# normalized_logs_df = parsed_logs_df.withColumns({\n",
    "#     \"timestamp\": F.to_timestamp(F.col('timestamp').cast(SparkTypes.TimestampType()), '%d/%b/%Y:%H:%M:%S %z'),\n",
    "# })."
   ]
  },
  {
   "cell_type": "code",
   "execution_count": 76,
   "id": "524e34cb",
   "metadata": {},
   "outputs": [
    {
     "name": "stdout",
     "output_type": "stream",
     "text": [
      "23/05/27 18:51:03 WARN MemoryStore: Not enough space to cache rdd_113_0 in memory! (computed 155.2 MiB so far)\n"
     ]
    },
    {
     "name": "stderr",
     "output_type": "stream",
     "text": [
      "\r",
      "[Stage 40:>                                                         (0 + 1) / 1]\r"
     ]
    },
    {
     "name": "stdout",
     "output_type": "stream",
     "text": [
      "+--------------+--------------------+------+--------------------+--------+------+------------+--------------------+\n",
      "|          host|           timestamp|method|            endpoint|protocol|status|content_size|                 raw|\n",
      "+--------------+--------------------+------+--------------------+--------+------+------------+--------------------+\n",
      "| 199.120.110.2|1995-07-01T00:00:...|   GET|/shuttle/missions...|HTTP/1.0|   200|        4085|199.120.110.21 - ...|\n",
      "| 199.120.110.2|1995-07-01T00:00:...|   GET|/shuttle/missions...|HTTP/1.0|   200|        4179|199.120.110.21 - ...|\n",
      "|       205.212|1995-07-01T00:00:...|   GET|/shuttle/countdow...|HTTP/1.0|   200|        3985|205.212.115.106 -...|\n",
      "|129.94.144.152|1995-07-01T00:00:...|   GET|                   /|HTTP/1.0|   200|        7074|129.94.144.152 - ...|\n",
      "|129.94.144.152|1995-07-01T00:00:...|   GET|/images/ksclogo-m...|HTTP/1.0|   304|           0|129.94.144.152 - ...|\n",
      "| 199.120.110.2|1995-07-01T00:00:...|   GET|/images/launch-lo...|HTTP/1.0|   200|        1713|199.120.110.21 - ...|\n",
      "| port26.annex2|1995-07-01T00:01:...|   GET|/software/winvn/w...|HTTP/1.0|   200|        9867|port26.annex2.nwl...|\n",
      "| port26.annex2|1995-07-01T00:01:...|   GET|/software/winvn/w...|HTTP/1.0|   200|       25218|port26.annex2.nwl...|\n",
      "| port26.annex2|1995-07-01T00:01:...|   GET|/images/construct...|HTTP/1.0|   200|        1414|port26.annex2.nwl...|\n",
      "| port26.annex2|1995-07-01T00:01:...|   GET|/software/winvn/b...|HTTP/1.0|   200|        4441|port26.annex2.nwl...|\n",
      "+--------------+--------------------+------+--------------------+--------+------+------------+--------------------+\n",
      "only showing top 10 rows\n",
      "\n",
      "root\n",
      " |-- host: string (nullable = true)\n",
      " |-- timestamp: string (nullable = true)\n",
      " |-- method: string (nullable = true)\n",
      " |-- endpoint: string (nullable = true)\n",
      " |-- protocol: string (nullable = true)\n",
      " |-- status: integer (nullable = true)\n",
      " |-- content_size: integer (nullable = true)\n",
      " |-- raw: string (nullable = true)\n",
      "\n"
     ]
    },
    {
     "name": "stderr",
     "output_type": "stream",
     "text": [
      "\r",
      "                                                                                \r"
     ]
    }
   ],
   "source": [
    "normalized_logs_df.show(10)\n",
    "normalized_logs_df.printSchema()"
   ]
  },
  {
   "cell_type": "code",
   "execution_count": 81,
   "id": "775703aa",
   "metadata": {},
   "outputs": [
    {
     "data": {
      "text/plain": [
       "0"
      ]
     },
     "execution_count": 81,
     "metadata": {},
     "output_type": "execute_result"
    }
   ],
   "source": [
    "bad_rows_df = parsed_logs_df.filter(parsed_logs_df['host'].isNull()| \n",
    "                                    parsed_logs_df['timestamp'].isNull() | \n",
    "                                    parsed_logs_df['method'].isNull() |\n",
    "                                    parsed_logs_df['endpoint'].isNull() |\n",
    "                                    parsed_logs_df['status'].isNull() |\n",
    "                                    parsed_logs_df['content_size'].isNull()|\n",
    "                                    parsed_logs_df['protocol'].isNull())\n",
    "bad_rows_df.count()"
   ]
  },
  {
   "cell_type": "code",
   "execution_count": 15,
   "id": "491da884",
   "metadata": {},
   "outputs": [
    {
     "name": "stderr",
     "output_type": "stream",
     "text": [
      "                                                                                \r"
     ]
    },
    {
     "data": {
      "text/plain": [
       "3461613"
      ]
     },
     "execution_count": 15,
     "metadata": {},
     "output_type": "execute_result"
    }
   ],
   "source": [
    "good_rows_df = parsed_logs_df.filter(\n",
    "        F.col('host').isNotNull() &\n",
    "        F.col('timestamp').isNotNull() &\n",
    "        F.col('method').isNotNull() &\n",
    "        F.col('endpoint').isNotNull() &\n",
    "        F.col('protocol').isNotNull() &\n",
    "        F.col('status').isNotNull() &\n",
    "        F.col('content_size').isNotNull()\n",
    "    )\n",
    "good_rows_df.count()"
   ]
  },
  {
   "cell_type": "code",
   "execution_count": 82,
   "id": "da9d699f",
   "metadata": {},
   "outputs": [
    {
     "name": "stdout",
     "output_type": "stream",
     "text": [
      "root\n",
      " |-- host: string (nullable = true)\n",
      " |-- timestamp: string (nullable = true)\n",
      " |-- method: string (nullable = true)\n",
      " |-- endpoint: string (nullable = true)\n",
      " |-- protocol: string (nullable = true)\n",
      " |-- status: string (nullable = true)\n",
      " |-- content_size: string (nullable = true)\n",
      "\n"
     ]
    }
   ],
   "source": [
    "parsed_logs_df.printSchema()"
   ]
  },
  {
   "cell_type": "code",
   "execution_count": null,
   "id": "4567d95a",
   "metadata": {},
   "outputs": [],
   "source": [
    "s = \"01/Jul/1995:00:00:01 -0400\"\n",
    "datetime.strptime(s, \"%d/%b/%Y:%H:%M:%S %z\")"
   ]
  },
  {
   "cell_type": "code",
   "execution_count": 170,
   "id": "afec07b8",
   "metadata": {},
   "outputs": [
    {
     "name": "stderr",
     "output_type": "stream",
     "text": [
      "                                                                                \r"
     ]
    }
   ],
   "source": [
    "parsed_logs_df.write.csv(\"parsed_logs\")"
   ]
  }
 ],
 "metadata": {
  "kernelspec": {
   "display_name": "Python 3 (ipykernel)",
   "language": "python",
   "name": "python3"
  },
  "language_info": {
   "codemirror_mode": {
    "name": "ipython",
    "version": 3
   },
   "file_extension": ".py",
   "mimetype": "text/x-python",
   "name": "python",
   "nbconvert_exporter": "python",
   "pygments_lexer": "ipython3",
   "version": "3.8.9"
  }
 },
 "nbformat": 4,
 "nbformat_minor": 5
}
