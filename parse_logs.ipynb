{
 "cells": [
  {
   "cell_type": "code",
   "execution_count": 1,
   "id": "062d9352",
   "metadata": {
    "scrolled": true
   },
   "outputs": [
    {
     "name": "stderr",
     "output_type": "stream",
     "text": [
      "23/05/11 15:32:00 WARN Utils: Your hostname, dev-2.local resolves to a loopback address: 127.0.2.3; using fd01:db8:1111:0:0:0:0:3 instead (on interface lo0)\n",
      "23/05/11 15:32:00 WARN Utils: Set SPARK_LOCAL_IP if you need to bind to another address\n",
      "Setting default log level to \"WARN\".\n",
      "To adjust logging level use sc.setLogLevel(newLevel). For SparkR, use setLogLevel(newLevel).\n",
      "23/05/11 15:32:01 WARN NativeCodeLoader: Unable to load native-hadoop library for your platform... using builtin-java classes where applicable\n",
      "23/05/11 15:32:02 WARN Utils: Service 'SparkUI' could not bind on port 4040. Attempting port 4041.\n",
      "/Users/leenguyen/Desktop/bigdata/venv/lib/python3.8/site-packages/pyspark/sql/context.py:112: FutureWarning: Deprecated in 3.0.0. Use SparkSession.builder.getOrCreate() instead.\n",
      "  warnings.warn(\n"
     ]
    }
   ],
   "source": [
    "from pyspark.context import SparkContext\n",
    "from pyspark.sql.context import SQLContext\n",
    "from pyspark.sql.session import SparkSession\n",
    "    \n",
    "sc = SparkContext()\n",
    "sqlContext = SQLContext(sc)\n",
    "spark = SparkSession(sc)"
   ]
  },
  {
   "cell_type": "code",
   "execution_count": 4,
   "id": "906f93dc",
   "metadata": {},
   "outputs": [],
   "source": [
    "import re\n",
    "from datetime import datetime"
   ]
  },
  {
   "cell_type": "code",
   "execution_count": 1,
   "id": "09df817e",
   "metadata": {},
   "outputs": [
    {
     "data": {
      "text/plain": [
       "['data/NASA_access_log_Jul95.gz', 'data/NASA_access_log_Aug95.gz']"
      ]
     },
     "execution_count": 1,
     "metadata": {},
     "output_type": "execute_result"
    }
   ],
   "source": [
    "import glob\n",
    "\n",
    "raw_data_files = glob.glob('data/*.gz')\n",
    "raw_data_files"
   ]
  },
  {
   "cell_type": "code",
   "execution_count": 6,
   "id": "21f029d1",
   "metadata": {},
   "outputs": [
    {
     "data": {
      "text/plain": [
       "DataFrame[value: string]"
      ]
     },
     "execution_count": 6,
     "metadata": {},
     "output_type": "execute_result"
    }
   ],
   "source": [
    "raw_logs_df = spark.read.text(raw_data_files)\n",
    "raw_logs_df"
   ]
  },
  {
   "attachments": {},
   "cell_type": "markdown",
   "id": "c4f2dadd",
   "metadata": {},
   "source": [
    "### Viewing sample data in our dataframe"
   ]
  },
  {
   "cell_type": "code",
   "execution_count": 6,
   "id": "57793535",
   "metadata": {},
   "outputs": [
    {
     "name": "stderr",
     "output_type": "stream",
     "text": [
      "\r\n",
      "[Stage 0:>                                                          (0 + 1) / 1]\r\n",
      "\r\n",
      "                                                                                \r"
     ]
    },
    {
     "data": {
      "text/plain": [
       "[Row(value='199.72.81.55 - - [01/Jul/1995:00:00:01 -0400] \"GET /history/apollo/ HTTP/1.0\" 200 6245'),\n",
       " Row(value='unicomp6.unicomp.net - - [01/Jul/1995:00:00:06 -0400] \"GET /shuttle/countdown/ HTTP/1.0\" 200 3985'),\n",
       " Row(value='199.120.110.21 - - [01/Jul/1995:00:00:09 -0400] \"GET /shuttle/missions/sts-73/mission-sts-73.html HTTP/1.0\" 200 4085'),\n",
       " Row(value='burger.letters.com - - [01/Jul/1995:00:00:11 -0400] \"GET /shuttle/countdown/liftoff.html HTTP/1.0\" 304 0'),\n",
       " Row(value='199.120.110.21 - - [01/Jul/1995:00:00:11 -0400] \"GET /shuttle/missions/sts-73/sts-73-patch-small.gif HTTP/1.0\" 200 4179'),\n",
       " Row(value='burger.letters.com - - [01/Jul/1995:00:00:12 -0400] \"GET /images/NASA-logosmall.gif HTTP/1.0\" 304 0'),\n",
       " Row(value='burger.letters.com - - [01/Jul/1995:00:00:12 -0400] \"GET /shuttle/countdown/video/livevideo.gif HTTP/1.0\" 200 0'),\n",
       " Row(value='205.212.115.106 - - [01/Jul/1995:00:00:12 -0400] \"GET /shuttle/countdown/countdown.html HTTP/1.0\" 200 3985'),\n",
       " Row(value='d104.aa.net - - [01/Jul/1995:00:00:13 -0400] \"GET /shuttle/countdown/ HTTP/1.0\" 200 3985'),\n",
       " Row(value='129.94.144.152 - - [01/Jul/1995:00:00:13 -0400] \"GET / HTTP/1.0\" 200 7074')]"
      ]
     },
     "execution_count": 6,
     "metadata": {},
     "output_type": "execute_result"
    }
   ],
   "source": [
    "raw_logs_df.take(10)"
   ]
  },
  {
   "cell_type": "code",
   "execution_count": 7,
   "id": "69950c6f",
   "metadata": {},
   "outputs": [
    {
     "name": "stderr",
     "output_type": "stream",
     "text": [
      "\r\n",
      "[Stage 1:>                                                          (0 + 2) / 2]\r"
     ]
    },
    {
     "name": "stdout",
     "output_type": "stream",
     "text": [
      "(3461613, 1)\n"
     ]
    },
    {
     "name": "stderr",
     "output_type": "stream",
     "text": [
      "\r\n",
      "                                                                                \r"
     ]
    }
   ],
   "source": [
    "print((raw_logs_df.count(), len(raw_logs_df.columns)))"
   ]
  },
  {
   "cell_type": "code",
   "execution_count": 9,
   "id": "0820db79",
   "metadata": {},
   "outputs": [
    {
     "name": "stderr",
     "output_type": "stream",
     "text": [
      "                                                                                \r"
     ]
    },
    {
     "data": {
      "text/plain": [
       "Row(value='199.72.81.55 - - [01/Jul/1995:00:00:01 -0400] \"GET /history/apollo/ HTTP/1.0\" 200 6245')"
      ]
     },
     "execution_count": 9,
     "metadata": {},
     "output_type": "execute_result"
    }
   ],
   "source": [
    "a_log = raw_logs_df.first()\n",
    "a_log"
   ]
  },
  {
   "cell_type": "code",
   "execution_count": 10,
   "id": "da09cc2b",
   "metadata": {},
   "outputs": [],
   "source": [
    "re_host = '(^\\S+\\.[\\S+\\.]+\\S+2)'\n",
    "re_time = '\\[(\\d{2}/\\w{3}/\\d{4}:\\d{2}:\\d{2}:\\d{2} -\\d{4})]'\n",
    "re_method_uri_protocol = '\\\"(\\S+)\\s(\\S+)\\s*(\\S*)\\\"'\n",
    "re_status = '\\s(\\d{3})\\s'\n",
    "re_content_size = '(\\d+)$'\n",
    "log_pattern = f'{re_host}\\s-\\s-\\s{re_time}\\s{re_method_uri_protocol}{re_status}{re_content_size}'\n"
   ]
  },
  {
   "cell_type": "code",
   "execution_count": 11,
   "id": "33728b93",
   "metadata": {},
   "outputs": [
    {
     "name": "stdout",
     "output_type": "stream",
     "text": [
      "None\n"
     ]
    }
   ],
   "source": [
    "match = re.search(log_pattern, a_log.value)\n",
    "print(match)"
   ]
  },
  {
   "cell_type": "code",
   "execution_count": 12,
   "id": "36d90467",
   "metadata": {
    "scrolled": true
   },
   "outputs": [
    {
     "data": {
      "text/plain": [
       "DataFrame[host: string, timestamp: string, method: string, endpoint: string, protocol: string, status: string, content_size: string]"
      ]
     },
     "execution_count": 12,
     "metadata": {},
     "output_type": "execute_result"
    }
   ],
   "source": [
    "from pyspark.sql import functions as F\n",
    "from pyspark.sql import types as SparkTypes\n",
    "\n",
    "parsed_logs_df = raw_logs_df.select(F.regexp_extract('value', re_host, 1).alias('host'),\n",
    "                        F.regexp_extract('value', re_time, 1).alias('timestamp'),\n",
    "                        F.regexp_extract('value', re_method_uri_protocol, 1).alias('method'),\n",
    "                        F.regexp_extract('value', re_method_uri_protocol, 2).alias('endpoint'),\n",
    "                        F.regexp_extract('value', re_method_uri_protocol, 3).alias('protocol'),\n",
    "                        F.regexp_extract('value', re_status, 1).alias('status'),\n",
    "                        F.regexp_extract('value', re_content_size, 1).alias('content_size'),\n",
    "                        )\n",
    "parsed_logs_df.cache()"
   ]
  },
  {
   "cell_type": "code",
   "execution_count": 13,
   "id": "40310de6",
   "metadata": {},
   "outputs": [
    {
     "name": "stderr",
     "output_type": "stream",
     "text": [
      "                                                                                \r"
     ]
    },
    {
     "data": {
      "text/plain": [
       "507334"
      ]
     },
     "execution_count": 13,
     "metadata": {},
     "output_type": "execute_result"
    }
   ],
   "source": [
    "normalized_logs_df = parsed_logs_df.filter(\n",
    "        (F.col('host') != '') &\n",
    "        (F.col('timestamp') != '') &\n",
    "        (F.col('method') != '') &\n",
    "        (F.col('endpoint') != '') &\n",
    "        (F.col('protocol') != '') &\n",
    "        (F.col('status') != '') &\n",
    "        (F.col('content_size') != '')\n",
    "    ) \n",
    "normalized_logs_df.count()"
   ]
  },
  {
   "cell_type": "code",
   "execution_count": 18,
   "id": "0b3b230d",
   "metadata": {},
   "outputs": [],
   "source": [
    "# normalized_logs_df = parsed_logs_df.withColumn('timestamp', F.udf(lambda s: datetime.strptime(s, \"%d/%b/%Y:%H:%M:%S %z\").date())(\"timestamp\"))\n",
    "# normalized_logs_df = normalized_logs_df.withColumn('status', F.udf(lambda s: int(s))('status'))\n",
    "# normalized_logs_df = normalized_logs_df.withColumn('content_size', F.udf(lambda s: int(s))('content_size'))\n",
    "normalized_logs_df = parsed_logs_df.withColumns({\n",
    "    \"timestamp\": F.udf(lambda s: datetime.strptime(s, \"%d/%b/%Y:%H:%M:%S %z\"), SparkTypes.TimestampType())(\"timestamp\"),\n",
    "    \"status\": F.udf(lambda s: int(s), SparkTypes.IntegerType())('status'),\n",
    "    \"content_size\": F.udf(lambda s: int(s), SparkTypes.IntegerType())('content_size'),\n",
    "})"
   ]
  },
  {
   "cell_type": "code",
   "execution_count": 19,
   "id": "524e34cb",
   "metadata": {},
   "outputs": [
    {
     "name": "stdout",
     "output_type": "stream",
     "text": [
      "+--------------+-------------------+------+--------------------+--------+------+------------+\n",
      "|          host|          timestamp|method|            endpoint|protocol|status|content_size|\n",
      "+--------------+-------------------+------+--------------------+--------+------+------------+\n",
      "|              |1995-07-01 11:00:01|   GET|    /history/apollo/|HTTP/1.0|   200|        6245|\n",
      "|              |1995-07-01 11:00:06|   GET| /shuttle/countdown/|HTTP/1.0|   200|        3985|\n",
      "| 199.120.110.2|1995-07-01 11:00:09|   GET|/shuttle/missions...|HTTP/1.0|   200|        4085|\n",
      "|              |1995-07-01 11:00:11|   GET|/shuttle/countdow...|HTTP/1.0|   304|           0|\n",
      "| 199.120.110.2|1995-07-01 11:00:11|   GET|/shuttle/missions...|HTTP/1.0|   200|        4179|\n",
      "|              |1995-07-01 11:00:12|   GET|/images/NASA-logo...|HTTP/1.0|   304|           0|\n",
      "|              |1995-07-01 11:00:12|   GET|/shuttle/countdow...|HTTP/1.0|   200|           0|\n",
      "|       205.212|1995-07-01 11:00:12|   GET|/shuttle/countdow...|HTTP/1.0|   200|        3985|\n",
      "|              |1995-07-01 11:00:13|   GET| /shuttle/countdown/|HTTP/1.0|   200|        3985|\n",
      "|129.94.144.152|1995-07-01 11:00:13|   GET|                   /|HTTP/1.0|   200|        7074|\n",
      "+--------------+-------------------+------+--------------------+--------+------+------------+\n",
      "only showing top 10 rows\n",
      "\n",
      "root\n",
      " |-- host: string (nullable = true)\n",
      " |-- timestamp: timestamp (nullable = true)\n",
      " |-- method: string (nullable = true)\n",
      " |-- endpoint: string (nullable = true)\n",
      " |-- protocol: string (nullable = true)\n",
      " |-- status: integer (nullable = true)\n",
      " |-- content_size: integer (nullable = true)\n",
      "\n"
     ]
    }
   ],
   "source": [
    "normalized_logs_df.show(10)\n",
    "normalized_logs_df.printSchema()"
   ]
  },
  {
   "cell_type": "code",
   "execution_count": 81,
   "id": "775703aa",
   "metadata": {},
   "outputs": [
    {
     "data": {
      "text/plain": [
       "0"
      ]
     },
     "execution_count": 81,
     "metadata": {},
     "output_type": "execute_result"
    }
   ],
   "source": [
    "bad_rows_df = parsed_logs_df.filter(parsed_logs_df['host'].isNull()| \n",
    "                                    parsed_logs_df['timestamp'].isNull() | \n",
    "                                    parsed_logs_df['method'].isNull() |\n",
    "                                    parsed_logs_df['endpoint'].isNull() |\n",
    "                                    parsed_logs_df['status'].isNull() |\n",
    "                                    parsed_logs_df['content_size'].isNull()|\n",
    "                                    parsed_logs_df['protocol'].isNull())\n",
    "bad_rows_df.count()"
   ]
  },
  {
   "cell_type": "code",
   "execution_count": 15,
   "id": "491da884",
   "metadata": {},
   "outputs": [
    {
     "name": "stderr",
     "output_type": "stream",
     "text": [
      "                                                                                \r"
     ]
    },
    {
     "data": {
      "text/plain": [
       "3461613"
      ]
     },
     "execution_count": 15,
     "metadata": {},
     "output_type": "execute_result"
    }
   ],
   "source": [
    "good_rows_df = parsed_logs_df.filter(\n",
    "        F.col('host').isNotNull() &\n",
    "        F.col('timestamp').isNotNull() &\n",
    "        F.col('method').isNotNull() &\n",
    "        F.col('endpoint').isNotNull() &\n",
    "        F.col('protocol').isNotNull() &\n",
    "        F.col('status').isNotNull() &\n",
    "        F.col('content_size').isNotNull()\n",
    "    )\n",
    "good_rows_df.count()"
   ]
  },
  {
   "cell_type": "code",
   "execution_count": 82,
   "id": "da9d699f",
   "metadata": {},
   "outputs": [
    {
     "name": "stdout",
     "output_type": "stream",
     "text": [
      "root\n",
      " |-- host: string (nullable = true)\n",
      " |-- timestamp: string (nullable = true)\n",
      " |-- method: string (nullable = true)\n",
      " |-- endpoint: string (nullable = true)\n",
      " |-- protocol: string (nullable = true)\n",
      " |-- status: string (nullable = true)\n",
      " |-- content_size: string (nullable = true)\n",
      "\n"
     ]
    }
   ],
   "source": [
    "parsed_logs_df.printSchema()"
   ]
  },
  {
   "cell_type": "code",
   "execution_count": null,
   "id": "4567d95a",
   "metadata": {},
   "outputs": [],
   "source": [
    "s = \"01/Jul/1995:00:00:01 -0400\"\n",
    "datetime.strptime(s, \"%d/%b/%Y:%H:%M:%S %z\")"
   ]
  },
  {
   "cell_type": "code",
   "execution_count": 170,
   "id": "afec07b8",
   "metadata": {},
   "outputs": [
    {
     "name": "stderr",
     "output_type": "stream",
     "text": [
      "                                                                                \r"
     ]
    }
   ],
   "source": [
    "parsed_logs_df.write.csv(\"parsed_logs\")"
   ]
  }
 ],
 "metadata": {
  "kernelspec": {
   "display_name": "Python 3 (ipykernel)",
   "language": "python",
   "name": "python3"
  },
  "language_info": {
   "codemirror_mode": {
    "name": "ipython",
    "version": 3
   },
   "file_extension": ".py",
   "mimetype": "text/x-python",
   "name": "python",
   "nbconvert_exporter": "python",
   "pygments_lexer": "ipython3",
   "version": "3.8.9"
  }
 },
 "nbformat": 4,
 "nbformat_minor": 5
}
